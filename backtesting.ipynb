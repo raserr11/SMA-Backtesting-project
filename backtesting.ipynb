{
 "cells": [
  {
   "cell_type": "markdown",
   "metadata": {},
   "source": [
    "# Backtesting Simple Strategies"
   ]
  },
  {
   "cell_type": "markdown",
   "metadata": {},
   "source": [
    "## Importing Libraries"
   ]
  },
  {
   "cell_type": "code",
   "execution_count": 9,
   "metadata": {},
   "outputs": [],
   "source": [
    "import pandas as pd\n",
    "import yfinance as yf\n",
    "import backtrader as bt"
   ]
  },
  {
   "cell_type": "markdown",
   "metadata": {},
   "source": [
    "## Data Aquisition"
   ]
  },
  {
   "cell_type": "code",
   "execution_count": 5,
   "metadata": {},
   "outputs": [
    {
     "name": "stderr",
     "output_type": "stream",
     "text": [
      "[*********************100%***********************]  1 of 1 completed\n"
     ]
    }
   ],
   "source": [
    "data = yf.download('GC=F', start='2020-01-01', end='2024-01-01')"
   ]
  },
  {
   "cell_type": "code",
   "execution_count": 6,
   "metadata": {},
   "outputs": [
    {
     "data": {
      "text/html": [
       "<div>\n",
       "<style scoped>\n",
       "    .dataframe tbody tr th:only-of-type {\n",
       "        vertical-align: middle;\n",
       "    }\n",
       "\n",
       "    .dataframe tbody tr th {\n",
       "        vertical-align: top;\n",
       "    }\n",
       "\n",
       "    .dataframe thead th {\n",
       "        text-align: right;\n",
       "    }\n",
       "</style>\n",
       "<table border=\"1\" class=\"dataframe\">\n",
       "  <thead>\n",
       "    <tr style=\"text-align: right;\">\n",
       "      <th></th>\n",
       "      <th>Open</th>\n",
       "      <th>High</th>\n",
       "      <th>Low</th>\n",
       "      <th>Close</th>\n",
       "      <th>Adj Close</th>\n",
       "      <th>Volume</th>\n",
       "    </tr>\n",
       "    <tr>\n",
       "      <th>Date</th>\n",
       "      <th></th>\n",
       "      <th></th>\n",
       "      <th></th>\n",
       "      <th></th>\n",
       "      <th></th>\n",
       "      <th></th>\n",
       "    </tr>\n",
       "  </thead>\n",
       "  <tbody>\n",
       "    <tr>\n",
       "      <th>2020-01-02</th>\n",
       "      <td>1518.099976</td>\n",
       "      <td>1528.699951</td>\n",
       "      <td>1518.000000</td>\n",
       "      <td>1524.500000</td>\n",
       "      <td>1524.500000</td>\n",
       "      <td>214</td>\n",
       "    </tr>\n",
       "    <tr>\n",
       "      <th>2020-01-03</th>\n",
       "      <td>1530.099976</td>\n",
       "      <td>1552.699951</td>\n",
       "      <td>1530.099976</td>\n",
       "      <td>1549.199951</td>\n",
       "      <td>1549.199951</td>\n",
       "      <td>107</td>\n",
       "    </tr>\n",
       "    <tr>\n",
       "      <th>2020-01-06</th>\n",
       "      <td>1580.000000</td>\n",
       "      <td>1580.000000</td>\n",
       "      <td>1560.400024</td>\n",
       "      <td>1566.199951</td>\n",
       "      <td>1566.199951</td>\n",
       "      <td>416</td>\n",
       "    </tr>\n",
       "    <tr>\n",
       "      <th>2020-01-07</th>\n",
       "      <td>1558.300049</td>\n",
       "      <td>1576.300049</td>\n",
       "      <td>1558.300049</td>\n",
       "      <td>1571.800049</td>\n",
       "      <td>1571.800049</td>\n",
       "      <td>47</td>\n",
       "    </tr>\n",
       "    <tr>\n",
       "      <th>2020-01-08</th>\n",
       "      <td>1579.699951</td>\n",
       "      <td>1604.199951</td>\n",
       "      <td>1552.300049</td>\n",
       "      <td>1557.400024</td>\n",
       "      <td>1557.400024</td>\n",
       "      <td>236</td>\n",
       "    </tr>\n",
       "  </tbody>\n",
       "</table>\n",
       "</div>"
      ],
      "text/plain": [
       "                   Open         High          Low        Close    Adj Close  \\\n",
       "Date                                                                          \n",
       "2020-01-02  1518.099976  1528.699951  1518.000000  1524.500000  1524.500000   \n",
       "2020-01-03  1530.099976  1552.699951  1530.099976  1549.199951  1549.199951   \n",
       "2020-01-06  1580.000000  1580.000000  1560.400024  1566.199951  1566.199951   \n",
       "2020-01-07  1558.300049  1576.300049  1558.300049  1571.800049  1571.800049   \n",
       "2020-01-08  1579.699951  1604.199951  1552.300049  1557.400024  1557.400024   \n",
       "\n",
       "            Volume  \n",
       "Date                \n",
       "2020-01-02     214  \n",
       "2020-01-03     107  \n",
       "2020-01-06     416  \n",
       "2020-01-07      47  \n",
       "2020-01-08     236  "
      ]
     },
     "execution_count": 6,
     "metadata": {},
     "output_type": "execute_result"
    }
   ],
   "source": [
    "data.head()"
   ]
  },
  {
   "cell_type": "code",
   "execution_count": 7,
   "metadata": {},
   "outputs": [
    {
     "data": {
      "text/html": [
       "<div>\n",
       "<style scoped>\n",
       "    .dataframe tbody tr th:only-of-type {\n",
       "        vertical-align: middle;\n",
       "    }\n",
       "\n",
       "    .dataframe tbody tr th {\n",
       "        vertical-align: top;\n",
       "    }\n",
       "\n",
       "    .dataframe thead th {\n",
       "        text-align: right;\n",
       "    }\n",
       "</style>\n",
       "<table border=\"1\" class=\"dataframe\">\n",
       "  <thead>\n",
       "    <tr style=\"text-align: right;\">\n",
       "      <th></th>\n",
       "      <th>Open</th>\n",
       "      <th>High</th>\n",
       "      <th>Low</th>\n",
       "      <th>Close</th>\n",
       "      <th>Adj Close</th>\n",
       "      <th>Volume</th>\n",
       "    </tr>\n",
       "  </thead>\n",
       "  <tbody>\n",
       "    <tr>\n",
       "      <th>count</th>\n",
       "      <td>1007.000000</td>\n",
       "      <td>1007.000000</td>\n",
       "      <td>1007.000000</td>\n",
       "      <td>1007.000000</td>\n",
       "      <td>1007.000000</td>\n",
       "      <td>1007.000000</td>\n",
       "    </tr>\n",
       "    <tr>\n",
       "      <th>mean</th>\n",
       "      <td>1828.224827</td>\n",
       "      <td>1837.602384</td>\n",
       "      <td>1819.079146</td>\n",
       "      <td>1828.325718</td>\n",
       "      <td>1828.325718</td>\n",
       "      <td>4385.268123</td>\n",
       "    </tr>\n",
       "    <tr>\n",
       "      <th>std</th>\n",
       "      <td>114.159337</td>\n",
       "      <td>113.764866</td>\n",
       "      <td>114.653137</td>\n",
       "      <td>114.046079</td>\n",
       "      <td>114.046079</td>\n",
       "      <td>24057.326026</td>\n",
       "    </tr>\n",
       "    <tr>\n",
       "      <th>min</th>\n",
       "      <td>1469.300049</td>\n",
       "      <td>1484.000000</td>\n",
       "      <td>1452.099976</td>\n",
       "      <td>1477.300049</td>\n",
       "      <td>1477.300049</td>\n",
       "      <td>0.000000</td>\n",
       "    </tr>\n",
       "    <tr>\n",
       "      <th>25%</th>\n",
       "      <td>1759.050049</td>\n",
       "      <td>1767.200012</td>\n",
       "      <td>1749.900024</td>\n",
       "      <td>1757.799988</td>\n",
       "      <td>1757.799988</td>\n",
       "      <td>83.000000</td>\n",
       "    </tr>\n",
       "    <tr>\n",
       "      <th>50%</th>\n",
       "      <td>1826.099976</td>\n",
       "      <td>1833.900024</td>\n",
       "      <td>1817.500000</td>\n",
       "      <td>1828.699951</td>\n",
       "      <td>1828.699951</td>\n",
       "      <td>248.000000</td>\n",
       "    </tr>\n",
       "    <tr>\n",
       "      <th>75%</th>\n",
       "      <td>1920.049988</td>\n",
       "      <td>1927.550049</td>\n",
       "      <td>1911.549988</td>\n",
       "      <td>1919.099976</td>\n",
       "      <td>1919.099976</td>\n",
       "      <td>666.000000</td>\n",
       "    </tr>\n",
       "    <tr>\n",
       "      <th>max</th>\n",
       "      <td>2081.600098</td>\n",
       "      <td>2130.199951</td>\n",
       "      <td>2066.500000</td>\n",
       "      <td>2081.899902</td>\n",
       "      <td>2081.899902</td>\n",
       "      <td>251274.000000</td>\n",
       "    </tr>\n",
       "  </tbody>\n",
       "</table>\n",
       "</div>"
      ],
      "text/plain": [
       "              Open         High          Low        Close    Adj Close  \\\n",
       "count  1007.000000  1007.000000  1007.000000  1007.000000  1007.000000   \n",
       "mean   1828.224827  1837.602384  1819.079146  1828.325718  1828.325718   \n",
       "std     114.159337   113.764866   114.653137   114.046079   114.046079   \n",
       "min    1469.300049  1484.000000  1452.099976  1477.300049  1477.300049   \n",
       "25%    1759.050049  1767.200012  1749.900024  1757.799988  1757.799988   \n",
       "50%    1826.099976  1833.900024  1817.500000  1828.699951  1828.699951   \n",
       "75%    1920.049988  1927.550049  1911.549988  1919.099976  1919.099976   \n",
       "max    2081.600098  2130.199951  2066.500000  2081.899902  2081.899902   \n",
       "\n",
       "              Volume  \n",
       "count    1007.000000  \n",
       "mean     4385.268123  \n",
       "std     24057.326026  \n",
       "min         0.000000  \n",
       "25%        83.000000  \n",
       "50%       248.000000  \n",
       "75%       666.000000  \n",
       "max    251274.000000  "
      ]
     },
     "execution_count": 7,
     "metadata": {},
     "output_type": "execute_result"
    }
   ],
   "source": [
    "data.describe()"
   ]
  },
  {
   "cell_type": "markdown",
   "metadata": {},
   "source": [
    "### Data Cleaning"
   ]
  },
  {
   "cell_type": "code",
   "execution_count": 10,
   "metadata": {},
   "outputs": [
    {
     "data": {
      "text/plain": [
       "Open         False\n",
       "High         False\n",
       "Low          False\n",
       "Close        False\n",
       "Adj Close    False\n",
       "Volume       False\n",
       "dtype: bool"
      ]
     },
     "execution_count": 10,
     "metadata": {},
     "output_type": "execute_result"
    }
   ],
   "source": [
    "data.isna().any()"
   ]
  },
  {
   "cell_type": "code",
   "execution_count": 12,
   "metadata": {},
   "outputs": [
    {
     "data": {
      "text/plain": [
       "np.False_"
      ]
     },
     "execution_count": 12,
     "metadata": {},
     "output_type": "execute_result"
    }
   ],
   "source": [
    "data.duplicated().any()"
   ]
  }
 ],
 "metadata": {
  "kernelspec": {
   "display_name": ".venv",
   "language": "python",
   "name": "python3"
  },
  "language_info": {
   "codemirror_mode": {
    "name": "ipython",
    "version": 3
   },
   "file_extension": ".py",
   "mimetype": "text/x-python",
   "name": "python",
   "nbconvert_exporter": "python",
   "pygments_lexer": "ipython3",
   "version": "3.12.3"
  }
 },
 "nbformat": 4,
 "nbformat_minor": 2
}
