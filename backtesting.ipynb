{
 "cells": [
  {
   "cell_type": "markdown",
   "metadata": {},
   "source": [
    "# Backtesting Simple Strategies"
   ]
  },
  {
   "cell_type": "markdown",
   "metadata": {},
   "source": [
    "## Importing Libraries"
   ]
  },
  {
   "cell_type": "code",
   "execution_count": 1,
   "metadata": {},
   "outputs": [],
   "source": [
    "import pandas as pd\n",
    "import yfinance as yf\n",
    "import backtrader as bt\n",
    "from datetime import datetime\n",
    "import matplotlib.pyplot as plt"
   ]
  },
  {
   "cell_type": "markdown",
   "metadata": {},
   "source": [
    "## Data Acquisition"
   ]
  },
  {
   "cell_type": "code",
   "execution_count": 2,
   "metadata": {},
   "outputs": [
    {
     "name": "stderr",
     "output_type": "stream",
     "text": [
      "[*********************100%***********************]  1 of 1 completed\n"
     ]
    }
   ],
   "source": [
    "data = yf.download('GC=F', start='2020-01-01', end='2024-01-01')"
   ]
  },
  {
   "cell_type": "code",
   "execution_count": 3,
   "metadata": {},
   "outputs": [],
   "source": [
    "data.to_csv('GOLD_data.csv')"
   ]
  },
  {
   "cell_type": "code",
   "execution_count": 4,
   "metadata": {},
   "outputs": [
    {
     "data": {
      "text/html": [
       "<div>\n",
       "<style scoped>\n",
       "    .dataframe tbody tr th:only-of-type {\n",
       "        vertical-align: middle;\n",
       "    }\n",
       "\n",
       "    .dataframe tbody tr th {\n",
       "        vertical-align: top;\n",
       "    }\n",
       "\n",
       "    .dataframe thead th {\n",
       "        text-align: right;\n",
       "    }\n",
       "</style>\n",
       "<table border=\"1\" class=\"dataframe\">\n",
       "  <thead>\n",
       "    <tr style=\"text-align: right;\">\n",
       "      <th></th>\n",
       "      <th>Open</th>\n",
       "      <th>High</th>\n",
       "      <th>Low</th>\n",
       "      <th>Close</th>\n",
       "      <th>Adj Close</th>\n",
       "      <th>Volume</th>\n",
       "    </tr>\n",
       "    <tr>\n",
       "      <th>Date</th>\n",
       "      <th></th>\n",
       "      <th></th>\n",
       "      <th></th>\n",
       "      <th></th>\n",
       "      <th></th>\n",
       "      <th></th>\n",
       "    </tr>\n",
       "  </thead>\n",
       "  <tbody>\n",
       "    <tr>\n",
       "      <th>2020-01-02</th>\n",
       "      <td>1518.099976</td>\n",
       "      <td>1528.699951</td>\n",
       "      <td>1518.000000</td>\n",
       "      <td>1524.500000</td>\n",
       "      <td>1524.500000</td>\n",
       "      <td>214</td>\n",
       "    </tr>\n",
       "    <tr>\n",
       "      <th>2020-01-03</th>\n",
       "      <td>1530.099976</td>\n",
       "      <td>1552.699951</td>\n",
       "      <td>1530.099976</td>\n",
       "      <td>1549.199951</td>\n",
       "      <td>1549.199951</td>\n",
       "      <td>107</td>\n",
       "    </tr>\n",
       "    <tr>\n",
       "      <th>2020-01-06</th>\n",
       "      <td>1580.000000</td>\n",
       "      <td>1580.000000</td>\n",
       "      <td>1560.400024</td>\n",
       "      <td>1566.199951</td>\n",
       "      <td>1566.199951</td>\n",
       "      <td>416</td>\n",
       "    </tr>\n",
       "    <tr>\n",
       "      <th>2020-01-07</th>\n",
       "      <td>1558.300049</td>\n",
       "      <td>1576.300049</td>\n",
       "      <td>1558.300049</td>\n",
       "      <td>1571.800049</td>\n",
       "      <td>1571.800049</td>\n",
       "      <td>47</td>\n",
       "    </tr>\n",
       "    <tr>\n",
       "      <th>2020-01-08</th>\n",
       "      <td>1579.699951</td>\n",
       "      <td>1604.199951</td>\n",
       "      <td>1552.300049</td>\n",
       "      <td>1557.400024</td>\n",
       "      <td>1557.400024</td>\n",
       "      <td>236</td>\n",
       "    </tr>\n",
       "  </tbody>\n",
       "</table>\n",
       "</div>"
      ],
      "text/plain": [
       "                   Open         High          Low        Close    Adj Close  \\\n",
       "Date                                                                          \n",
       "2020-01-02  1518.099976  1528.699951  1518.000000  1524.500000  1524.500000   \n",
       "2020-01-03  1530.099976  1552.699951  1530.099976  1549.199951  1549.199951   \n",
       "2020-01-06  1580.000000  1580.000000  1560.400024  1566.199951  1566.199951   \n",
       "2020-01-07  1558.300049  1576.300049  1558.300049  1571.800049  1571.800049   \n",
       "2020-01-08  1579.699951  1604.199951  1552.300049  1557.400024  1557.400024   \n",
       "\n",
       "            Volume  \n",
       "Date                \n",
       "2020-01-02     214  \n",
       "2020-01-03     107  \n",
       "2020-01-06     416  \n",
       "2020-01-07      47  \n",
       "2020-01-08     236  "
      ]
     },
     "execution_count": 4,
     "metadata": {},
     "output_type": "execute_result"
    }
   ],
   "source": [
    "data.head()"
   ]
  },
  {
   "cell_type": "code",
   "execution_count": 5,
   "metadata": {},
   "outputs": [
    {
     "data": {
      "text/html": [
       "<div>\n",
       "<style scoped>\n",
       "    .dataframe tbody tr th:only-of-type {\n",
       "        vertical-align: middle;\n",
       "    }\n",
       "\n",
       "    .dataframe tbody tr th {\n",
       "        vertical-align: top;\n",
       "    }\n",
       "\n",
       "    .dataframe thead th {\n",
       "        text-align: right;\n",
       "    }\n",
       "</style>\n",
       "<table border=\"1\" class=\"dataframe\">\n",
       "  <thead>\n",
       "    <tr style=\"text-align: right;\">\n",
       "      <th></th>\n",
       "      <th>Open</th>\n",
       "      <th>High</th>\n",
       "      <th>Low</th>\n",
       "      <th>Close</th>\n",
       "      <th>Adj Close</th>\n",
       "      <th>Volume</th>\n",
       "    </tr>\n",
       "  </thead>\n",
       "  <tbody>\n",
       "    <tr>\n",
       "      <th>count</th>\n",
       "      <td>1007.000000</td>\n",
       "      <td>1007.000000</td>\n",
       "      <td>1007.000000</td>\n",
       "      <td>1007.000000</td>\n",
       "      <td>1007.000000</td>\n",
       "      <td>1007.000000</td>\n",
       "    </tr>\n",
       "    <tr>\n",
       "      <th>mean</th>\n",
       "      <td>1828.224827</td>\n",
       "      <td>1837.602384</td>\n",
       "      <td>1819.079146</td>\n",
       "      <td>1828.325718</td>\n",
       "      <td>1828.325718</td>\n",
       "      <td>4385.268123</td>\n",
       "    </tr>\n",
       "    <tr>\n",
       "      <th>std</th>\n",
       "      <td>114.159337</td>\n",
       "      <td>113.764866</td>\n",
       "      <td>114.653137</td>\n",
       "      <td>114.046079</td>\n",
       "      <td>114.046079</td>\n",
       "      <td>24057.326026</td>\n",
       "    </tr>\n",
       "    <tr>\n",
       "      <th>min</th>\n",
       "      <td>1469.300049</td>\n",
       "      <td>1484.000000</td>\n",
       "      <td>1452.099976</td>\n",
       "      <td>1477.300049</td>\n",
       "      <td>1477.300049</td>\n",
       "      <td>0.000000</td>\n",
       "    </tr>\n",
       "    <tr>\n",
       "      <th>25%</th>\n",
       "      <td>1759.050049</td>\n",
       "      <td>1767.200012</td>\n",
       "      <td>1749.900024</td>\n",
       "      <td>1757.799988</td>\n",
       "      <td>1757.799988</td>\n",
       "      <td>83.000000</td>\n",
       "    </tr>\n",
       "    <tr>\n",
       "      <th>50%</th>\n",
       "      <td>1826.099976</td>\n",
       "      <td>1833.900024</td>\n",
       "      <td>1817.500000</td>\n",
       "      <td>1828.699951</td>\n",
       "      <td>1828.699951</td>\n",
       "      <td>248.000000</td>\n",
       "    </tr>\n",
       "    <tr>\n",
       "      <th>75%</th>\n",
       "      <td>1920.049988</td>\n",
       "      <td>1927.550049</td>\n",
       "      <td>1911.549988</td>\n",
       "      <td>1919.099976</td>\n",
       "      <td>1919.099976</td>\n",
       "      <td>666.000000</td>\n",
       "    </tr>\n",
       "    <tr>\n",
       "      <th>max</th>\n",
       "      <td>2081.600098</td>\n",
       "      <td>2130.199951</td>\n",
       "      <td>2066.500000</td>\n",
       "      <td>2081.899902</td>\n",
       "      <td>2081.899902</td>\n",
       "      <td>251274.000000</td>\n",
       "    </tr>\n",
       "  </tbody>\n",
       "</table>\n",
       "</div>"
      ],
      "text/plain": [
       "              Open         High          Low        Close    Adj Close  \\\n",
       "count  1007.000000  1007.000000  1007.000000  1007.000000  1007.000000   \n",
       "mean   1828.224827  1837.602384  1819.079146  1828.325718  1828.325718   \n",
       "std     114.159337   113.764866   114.653137   114.046079   114.046079   \n",
       "min    1469.300049  1484.000000  1452.099976  1477.300049  1477.300049   \n",
       "25%    1759.050049  1767.200012  1749.900024  1757.799988  1757.799988   \n",
       "50%    1826.099976  1833.900024  1817.500000  1828.699951  1828.699951   \n",
       "75%    1920.049988  1927.550049  1911.549988  1919.099976  1919.099976   \n",
       "max    2081.600098  2130.199951  2066.500000  2081.899902  2081.899902   \n",
       "\n",
       "              Volume  \n",
       "count    1007.000000  \n",
       "mean     4385.268123  \n",
       "std     24057.326026  \n",
       "min         0.000000  \n",
       "25%        83.000000  \n",
       "50%       248.000000  \n",
       "75%       666.000000  \n",
       "max    251274.000000  "
      ]
     },
     "execution_count": 5,
     "metadata": {},
     "output_type": "execute_result"
    }
   ],
   "source": [
    "data.describe()"
   ]
  },
  {
   "cell_type": "markdown",
   "metadata": {},
   "source": [
    "### Data Cleaning"
   ]
  },
  {
   "cell_type": "code",
   "execution_count": 6,
   "metadata": {},
   "outputs": [
    {
     "data": {
      "text/plain": [
       "Open         False\n",
       "High         False\n",
       "Low          False\n",
       "Close        False\n",
       "Adj Close    False\n",
       "Volume       False\n",
       "dtype: bool"
      ]
     },
     "execution_count": 6,
     "metadata": {},
     "output_type": "execute_result"
    }
   ],
   "source": [
    "data.isna().any()"
   ]
  },
  {
   "cell_type": "code",
   "execution_count": 7,
   "metadata": {},
   "outputs": [
    {
     "data": {
      "text/plain": [
       "np.False_"
      ]
     },
     "execution_count": 7,
     "metadata": {},
     "output_type": "execute_result"
    }
   ],
   "source": [
    "data.duplicated().any()"
   ]
  },
  {
   "cell_type": "markdown",
   "metadata": {},
   "source": [
    "### SMA Strategy Definition"
   ]
  },
  {
   "cell_type": "code",
   "execution_count": 8,
   "metadata": {},
   "outputs": [],
   "source": [
    "class SMAStrategy(bt.SignalStrategy):\n",
    "    def __init__(self):\n",
    "\n",
    "        #Define moving averages\n",
    "        self.sma30 = bt.indicators.SimpleMovingAverage(self.data.close, period=30)\n",
    "        self.sma100 = bt.indicators.SimpleMovingAverage(self.data.close, period=100)\n",
    "\n",
    "        #Add buy/sell signals\n",
    "        self.signal_add(bt.SIGNAL_LONG, self.data.close > self.sma30)\n",
    "        self.signal_add(bt.SIGNAL_SHORT, self.data.close < self.sma30)\n",
    "\n",
    "        #Mantain signals\n",
    "        self.addsignal(bt.SIGNAL_LONG, self.data.close > self.sma30)\n",
    "        self.addsignal(bt.SIGNAL_SHORT, self.data.close < self.sma30)\n"
   ]
  },
  {
   "cell_type": "markdown",
   "metadata": {},
   "source": [
    "### Backtesting Configuration & Execution"
   ]
  },
  {
   "cell_type": "code",
   "execution_count": 10,
   "metadata": {},
   "outputs": [
    {
     "name": "stderr",
     "output_type": "stream",
     "text": [
      "/home/raulserrano/DATA_SCIENCE/proyectos/Backtesting-1-try/.venv/lib/python3.12/site-packages/backtrader/cerebro.py:670: SyntaxWarning: invalid escape sequence '\\*'\n",
      "  '''Adds a callback to get messages which would be handled by the\n",
      "/home/raulserrano/DATA_SCIENCE/proyectos/Backtesting-1-try/.venv/lib/python3.12/site-packages/backtrader/cerebro.py:712: SyntaxWarning: invalid escape sequence '\\*'\n",
      "  '''Adds a callback to get messages which would be handled by the\n"
     ]
    },
    {
     "ename": "AttributeError",
     "evalue": "'YahooFinance' object has no attribute 'setenvironment'",
     "output_type": "error",
     "traceback": [
      "\u001b[0;31m---------------------------------------------------------------------------\u001b[0m",
      "\u001b[0;31mAttributeError\u001b[0m                            Traceback (most recent call last)",
      "Cell \u001b[0;32mIn[10], line 8\u001b[0m\n\u001b[1;32m      6\u001b[0m \u001b[38;5;66;03m#Upload data\u001b[39;00m\n\u001b[1;32m      7\u001b[0m datafeed \u001b[38;5;241m=\u001b[39m bt\u001b[38;5;241m.\u001b[39mfeeds\u001b[38;5;241m.\u001b[39mYahooFinance(dataname\u001b[38;5;241m=\u001b[39m\u001b[38;5;124m'\u001b[39m\u001b[38;5;124mGOLD_data.csv\u001b[39m\u001b[38;5;124m'\u001b[39m, fromdate\u001b[38;5;241m=\u001b[39mpd\u001b[38;5;241m.\u001b[39mTimestamp(\u001b[38;5;124m'\u001b[39m\u001b[38;5;124m2020-08-11\u001b[39m\u001b[38;5;124m'\u001b[39m), todate\u001b[38;5;241m=\u001b[39mpd\u001b[38;5;241m.\u001b[39mTimestamp(\u001b[38;5;124m'\u001b[39m\u001b[38;5;124m2023-12-15\u001b[39m\u001b[38;5;124m'\u001b[39m))\n\u001b[0;32m----> 8\u001b[0m \u001b[43mcerebro\u001b[49m\u001b[38;5;241;43m.\u001b[39;49m\u001b[43madddata\u001b[49m\u001b[43m(\u001b[49m\u001b[43mdatafeed\u001b[49m\u001b[43m)\u001b[49m\n\u001b[1;32m     10\u001b[0m \u001b[38;5;66;03m#Set initial capital\u001b[39;00m\n\u001b[1;32m     11\u001b[0m cerebro\u001b[38;5;241m.\u001b[39mbroker\u001b[38;5;241m.\u001b[39mset_cash(\u001b[38;5;241m100000\u001b[39m)\n",
      "File \u001b[0;32m~/DATA_SCIENCE/proyectos/Backtesting-1-try/.venv/lib/python3.12/site-packages/backtrader/cerebro.py:763\u001b[0m, in \u001b[0;36mCerebro.adddata\u001b[0;34m(self, data, name)\u001b[0m\n\u001b[1;32m    760\u001b[0m     data\u001b[38;5;241m.\u001b[39m_name \u001b[38;5;241m=\u001b[39m name\n\u001b[1;32m    762\u001b[0m data\u001b[38;5;241m.\u001b[39m_id \u001b[38;5;241m=\u001b[39m \u001b[38;5;28mnext\u001b[39m(\u001b[38;5;28mself\u001b[39m\u001b[38;5;241m.\u001b[39m_dataid)\n\u001b[0;32m--> 763\u001b[0m \u001b[43mdata\u001b[49m\u001b[38;5;241;43m.\u001b[39;49m\u001b[43msetenvironment\u001b[49m(\u001b[38;5;28mself\u001b[39m)\n\u001b[1;32m    765\u001b[0m \u001b[38;5;28mself\u001b[39m\u001b[38;5;241m.\u001b[39mdatas\u001b[38;5;241m.\u001b[39mappend(data)\n\u001b[1;32m    766\u001b[0m \u001b[38;5;28mself\u001b[39m\u001b[38;5;241m.\u001b[39mdatasbyname[data\u001b[38;5;241m.\u001b[39m_name] \u001b[38;5;241m=\u001b[39m data\n",
      "\u001b[0;31mAttributeError\u001b[0m: 'YahooFinance' object has no attribute 'setenvironment'"
     ]
    }
   ],
   "source": [
    "cerebro = bt.Cerebro()\n",
    "\n",
    "#Add strategy to cerebro\n",
    "cerebro.addstrategy(SMAStrategy)\n",
    "\n",
    "#Upload data\n",
    "datafeed = bt.feeds.YahooFinance(dataname='GOLD_data.csv', fromdate=pd.Timestamp('2020-08-11'), todate=pd.Timestamp('2023-12-15'))\n",
    "cerebro.adddata(datafeed)\n",
    "\n",
    "#Set initial capital\n",
    "cerebro.broker.set_cash(100000)\n",
    "\n",
    "#Set order size\n",
    "cerebro.addsizer(bt.sizers.FixedSize, stake=10)\n",
    "\n",
    "#Execute backtesting\n",
    "print('Starting Portfolio Value: %.2f' % cerebro.broker.getvalue())\n",
    "cerebro.run()\n",
    "print('Ending Portfolio Value: %.2f' % cerebro.broker.getvalue())"
   ]
  },
  {
   "cell_type": "markdown",
   "metadata": {},
   "source": [
    "### Ploting Backtesting Results"
   ]
  },
  {
   "cell_type": "code",
   "execution_count": null,
   "metadata": {},
   "outputs": [
    {
     "ename": "NameError",
     "evalue": "name 'cerebro' is not defined",
     "output_type": "error",
     "traceback": [
      "\u001b[0;31m---------------------------------------------------------------------------\u001b[0m",
      "\u001b[0;31mNameError\u001b[0m                                 Traceback (most recent call last)",
      "Cell \u001b[0;32mIn[10], line 2\u001b[0m\n\u001b[1;32m      1\u001b[0m \u001b[38;5;66;03m# Graficar los resultados\u001b[39;00m\n\u001b[0;32m----> 2\u001b[0m \u001b[43mcerebro\u001b[49m\u001b[38;5;241m.\u001b[39mplot()\n",
      "\u001b[0;31mNameError\u001b[0m: name 'cerebro' is not defined"
     ]
    }
   ],
   "source": [
    "# Graficar los resultados\n",
    "cerebro.plot()"
   ]
  }
 ],
 "metadata": {
  "kernelspec": {
   "display_name": ".venv",
   "language": "python",
   "name": "python3"
  },
  "language_info": {
   "codemirror_mode": {
    "name": "ipython",
    "version": 3
   },
   "file_extension": ".py",
   "mimetype": "text/x-python",
   "name": "python",
   "nbconvert_exporter": "python",
   "pygments_lexer": "ipython3",
   "version": "3.12.3"
  }
 },
 "nbformat": 4,
 "nbformat_minor": 2
}
